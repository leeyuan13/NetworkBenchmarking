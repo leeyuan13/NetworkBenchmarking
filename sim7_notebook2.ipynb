{
  "cells": [
    {
      "cell_type": "markdown",
      "id": "8610ef1b",
      "metadata": {
        "id": "8610ef1b"
      },
      "source": [
        "# Quantum Network Utility: A Framework for Benchmarking Quantum Networks\n",
        "August 2022"
      ]
    },
    {
      "cell_type": "markdown",
      "source": [
        "*Please feel free to make a copy of this notebook so that you can run it or make changes. This notebook can be found at the following link:* \\\n",
        "https://tinyurl.com/quantumNetworkUtility2022\n",
        "\n",
        "*A draft of the corresponding paper can be found at:* \\\n",
        "https://tinyurl.com/quantumNetworkUtilityPaper2022"
      ],
      "metadata": {
        "id": "YubITjPZo0w2"
      },
      "id": "YubITjPZo0w2"
    },
    {
      "cell_type": "markdown",
      "id": "5ea33821",
      "metadata": {
        "id": "5ea33821"
      },
      "source": [
        "## Calculating Quantum Network Utility"
      ]
    },
    {
      "cell_type": "markdown",
      "id": "7cb59c82",
      "metadata": {
        "id": "7cb59c82"
      },
      "source": [
        "In this notebook, we provide the code to compute the quantum network utility from distributed quantum computing for an arbitrary network. We also demonstrate how this code can be used, by computing the utility of an example network.\n",
        "\n",
        "Recall that in the context of distributed quantum computing, the quantum network utility is a \"quantum volume throughput\". It extends the quantum volume of quantum computers to quantum networks. The metric we present here is one example of a network utility in the framework we have presented in the main text of the paper.\n",
        "\n",
        "We make the following assumptions:\n",
        "* Every node in the network has one memory allocated for computation. This is not a restrictive assumption: if a physical network node has multiple computation memories, we can construct virtual nodes with one memory each and the appropriate local links.\n",
        "* The network only produces bipartite entanglement (i.e. Bell states).\n",
        "* The network produces Bell states with zero error (i.e. $\\epsilon_{\\text{eff}} = 0$, and an entanglement swap generates new entanglement with efficiency $q$.\n",
        "* The entanglement produced by the network is used for the Heavy Output Generation (HOG) computation task. Different coalitions of nodes are associated with distinct tasks.\n",
        "* The utility of completing a computation task is the quantum volume associated with that task, which we can interpret as the cost of simulating the HOG problem on a classical computer."
      ]
    },
    {
      "cell_type": "markdown",
      "id": "e670c4ed",
      "metadata": {
        "id": "e670c4ed"
      },
      "source": [
        "### Setup\n",
        "\n",
        "We assume that all elementary links in the quantum network can generate entanglement at some rate $f_{ab} = f$. We can perform entanglement swaps to convert elementary links into output entanglement with efficiency $q_c = q$ per swap. The rate region describing the set of feasible entanglement rate vectors can thus be defined by a set of linear constraints.\n",
        "\n",
        "If $m$ memories perform a depth-$d$ HOG computation task, the associated utility is $\\beta^{\\min(m, d)}$, where $\\beta = 2$. For generality, we let the base $\\beta$ be a variable (`vol_scaling`).\n",
        "\n",
        "To perform the HOG computation task with depth $d$ over a coalition of size $m$, we need an average of $d/(m-1)$ entanglements between every pair of nodes in the coalition if $m$ is even, and $d/m$ entanglements between every node pair if $m$ is odd.\n",
        "\n",
        "Hence, utility from performing the HOG computation task is derived at the rate\n",
        "$$ \\beta^{\\min(m, d)} \\times \\text{rate of HOG computations} = \\beta^{\\min(m, d)} \\times \\text{minimum entanglement rate over coalition node pairs} \\times \\left\\{\\!\\begin{aligned}\n",
        "&\\textstyle\\frac{m-1}{d} &\\text{if } m \\text{ is even}\\\\[1ex]\n",
        "&\\textstyle\\frac{m}{d} &\\text{if } m \\text{ is odd} \\\\[1ex]\n",
        "\\end{aligned}\\right\\}.$$\n",
        "\n",
        "The quantum network utility maximizes the sum of utilities over all possible coalitions of nodes. Note that $m, d$ and the \"minimum entanglement rate over coalition node pairs\" are specific to each coalition. For a HOG computation task to be performed, all node pairs in the coalition must have at least some entanglement rate specific to the coalition."
      ]
    },
    {
      "cell_type": "markdown",
      "id": "c3b30163",
      "metadata": {
        "id": "c3b30163"
      },
      "source": [
        "We now transform this optimization problem into a linear program.\n",
        "\n",
        "First, note that $d$ should not be larger than $m$ in any optimal solution. Doing so increases the amount of entanglement needed to perform an HOG computation without increasing the associated quantum volume. Therefore, $\\min(m, d) = d$.\n",
        "\n",
        "Then, note that the utility term associated with any given coalition depends on its depth $d$ through the factor $\\beta^d / d$.\n",
        "\n",
        "Hence, we can choose the optimal value of $d$ for each coalition independently of the other variables to be optimized over. In particular, $\\beta^d / d$ is a strictly convex function of $d$, so it is maximized at the endpoints $d = 1$ or $d = m$.\n",
        "\n",
        "After fixing the value of $d$, the optimization problem is a straightforward linear program."
      ]
    },
    {
      "cell_type": "markdown",
      "id": "7642fc66",
      "metadata": {
        "id": "7642fc66"
      },
      "source": [
        "### Utilities\n",
        "\n",
        "In this section, we import relevant packages and define a few useful functions.\n",
        "\n",
        "This code requires external packages `numpy`, `ortools`, `matplotlib` and `networkx`. (The latter two packages are for plotting.)"
      ]
    },
    {
      "cell_type": "code",
      "source": [
        "# If ortools is installed, you can comment-out the following line:\n",
        "# !pip install ortools"
      ],
      "metadata": {
        "colab": {
          "base_uri": "https://localhost:8080/"
        },
        "id": "FtcIUhYsYiLG",
        "outputId": "85ab7a6b-30e1-4326-c1f3-09c8496c6b14"
      },
      "id": "FtcIUhYsYiLG",
      "execution_count": 1,
      "outputs": [
        {
          "output_type": "stream",
          "name": "stdout",
          "text": [
            "Looking in indexes: https://pypi.org/simple, https://us-python.pkg.dev/colab-wheels/public/simple/\n",
            "Collecting ortools\n",
            "  Downloading ortools-9.4.1874-cp37-cp37m-manylinux_2_17_x86_64.manylinux2014_x86_64.whl (16.0 MB)\n",
            "\u001b[K     |████████████████████████████████| 16.0 MB 12.3 MB/s \n",
            "\u001b[?25hRequirement already satisfied: absl-py>=0.13 in /usr/local/lib/python3.7/dist-packages (from ortools) (1.2.0)\n",
            "Collecting protobuf>=3.19.4\n",
            "  Downloading protobuf-4.21.5-cp37-abi3-manylinux2014_x86_64.whl (408 kB)\n",
            "\u001b[K     |████████████████████████████████| 408 kB 52.7 MB/s \n",
            "\u001b[?25hRequirement already satisfied: numpy>=1.13.3 in /usr/local/lib/python3.7/dist-packages (from ortools) (1.21.6)\n",
            "Installing collected packages: protobuf, ortools\n",
            "  Attempting uninstall: protobuf\n",
            "    Found existing installation: protobuf 3.17.3\n",
            "    Uninstalling protobuf-3.17.3:\n",
            "      Successfully uninstalled protobuf-3.17.3\n",
            "\u001b[31mERROR: pip's dependency resolver does not currently take into account all the packages that are installed. This behaviour is the source of the following dependency conflicts.\n",
            "tensorflow 2.8.2+zzzcolab20220719082949 requires protobuf<3.20,>=3.9.2, but you have protobuf 4.21.5 which is incompatible.\n",
            "tensorflow-metadata 1.9.0 requires protobuf<4,>=3.13, but you have protobuf 4.21.5 which is incompatible.\n",
            "google-cloud-bigquery-storage 1.1.2 requires protobuf<4.0.0dev, but you have protobuf 4.21.5 which is incompatible.\n",
            "google-api-core 1.31.6 requires protobuf<4.0.0dev,>=3.12.0; python_version > \"3\", but you have protobuf 4.21.5 which is incompatible.\u001b[0m\n",
            "Successfully installed ortools-9.4.1874 protobuf-4.21.5\n"
          ]
        }
      ]
    },
    {
      "cell_type": "code",
      "execution_count": 2,
      "id": "4e98a9a4",
      "metadata": {
        "id": "4e98a9a4"
      },
      "outputs": [],
      "source": [
        "import numpy as np\n",
        "import matplotlib.pyplot as plt\n",
        "from itertools import chain, combinations\n",
        "from ortools.linear_solver import pywraplp\n",
        "import time\n",
        "import networkx as nx"
      ]
    },
    {
      "cell_type": "markdown",
      "id": "8ce3e903",
      "metadata": {
        "id": "8ce3e903"
      },
      "source": [
        "This function defines a consistent convention for labelling edges in the network. Each edge is named according to the two nodes it connects."
      ]
    },
    {
      "cell_type": "code",
      "execution_count": 3,
      "id": "f25c9e61",
      "metadata": {
        "id": "f25c9e61"
      },
      "outputs": [],
      "source": [
        "get_edge = lambda i, j: (i, j) if i < j else (j, i)"
      ]
    },
    {
      "cell_type": "markdown",
      "id": "74fd51f7",
      "metadata": {
        "id": "74fd51f7"
      },
      "source": [
        "Given a set `nodes` of nodes, this function constructs all possible entangled output states of the network."
      ]
    },
    {
      "cell_type": "code",
      "execution_count": 4,
      "id": "666ef113",
      "metadata": {
        "id": "666ef113"
      },
      "outputs": [],
      "source": [
        "def get_ecal(nodes):\n",
        "    ecal = [get_edge(nodes[i1], nodes[i2]) for i1 in range(len(nodes)) \\\n",
        "                                    for i2 in range(i1+1, len(nodes))]\n",
        "    return ecal"
      ]
    },
    {
      "cell_type": "markdown",
      "id": "49f9adc0",
      "metadata": {
        "id": "49f9adc0"
      },
      "source": [
        "This function returns a generator that produces all possible coalitions of nodes in the network. Of course, we can choose different subsets of coalitions that we are interested in. For example, in the case of a repeater chain, it suffices to consider connected coalitions."
      ]
    },
    {
      "cell_type": "code",
      "execution_count": 5,
      "id": "d075cd83",
      "metadata": {
        "id": "d075cd83"
      },
      "outputs": [],
      "source": [
        "def gen_all_coalitions(nodes):\n",
        "    max_coalition_size = len(nodes) + 1\n",
        "    coalitions = chain.from_iterable(combinations(nodes, r) \\\n",
        "                                     for r in range(2, max_coalition_size))\n",
        "    return coalitions"
      ]
    },
    {
      "cell_type": "markdown",
      "id": "bb66d50a",
      "metadata": {
        "id": "bb66d50a"
      },
      "source": [
        "Now we define a few common parameters in this code."
      ]
    },
    {
      "cell_type": "code",
      "execution_count": 6,
      "id": "3e427935",
      "metadata": {
        "id": "3e427935"
      },
      "outputs": [],
      "source": [
        "# \"eps_eff\" parameter = error of generated entanglement.\n",
        "eps_edge = 0\n",
        "# \"beta\" parameter in the base of the quantum volume.\n",
        "vol_scaling = 2"
      ]
    },
    {
      "cell_type": "markdown",
      "id": "8ce57894",
      "metadata": {
        "id": "8ce57894"
      },
      "source": [
        "Even though the discussion above assumes that the network generates perfect Bell states (`eps_edge` = 0), the following code will also be valid for imperfect Bell states (`eps_edge` > 0)."
      ]
    },
    {
      "cell_type": "markdown",
      "id": "49255496",
      "metadata": {
        "id": "49255496"
      },
      "source": [
        "### Defining a network\n",
        "\n",
        "To define a network, we need to specify its nodes (`nodes`) and edges. These edges represent elementary links in the physical layer of the network.\n",
        "\n",
        "The dictionary `f_edges` ($f$) describes the raw rates at which the network produces entanglement, in the absence of entanglement swaps. The keys of `f_edges` are the edges of the network.\n",
        "\n",
        "The dictionary `q_nodes` ($q$) describes the efficiency with which each node in the network can perform entanglement swaps.\n",
        "\n",
        "Recall that `ecal` is a list of all possible entangled output states of the network."
      ]
    },
    {
      "cell_type": "markdown",
      "id": "aeec1dea",
      "metadata": {
        "id": "aeec1dea"
      },
      "source": [
        "This function defines a uniform repeater chain with `chain_length` ($M$) nodes. The raw entanglement rate between adjacent nodes is normalized to $f = 0.6$ (arbitrary units) -- this parameter only affects the computed quantum network volume up to a scaling factor. All nodes are assumed to have the same entanglement swap efficiency."
      ]
    },
    {
      "cell_type": "code",
      "execution_count": 7,
      "id": "29d3b3ff",
      "metadata": {
        "id": "29d3b3ff"
      },
      "outputs": [],
      "source": [
        "def gen_params_chain(chain_length, q_node, vol_scaling):\n",
        "    nodes = list(range(chain_length))\n",
        "    edges = [(i, i+1) for i in range(chain_length-1)]\n",
        "    f_edges = {s: 0.6 for s in edges}\n",
        "    ecal = get_ecal(nodes)\n",
        "    q_nodes = {node: q_node for node in nodes}\n",
        "    return nodes, ecal, f_edges, q_nodes, vol_scaling"
      ]
    },
    {
      "cell_type": "markdown",
      "id": "5047f067",
      "metadata": {
        "id": "5047f067"
      },
      "source": [
        "The function `gen_all_coalitions` from above returns generators that produces all possible coalitions of nodes in the network. However, the number of possible coalitions scales exponentially with the length of the repeater chain, so the optimization problem would not be feasible for moderately long repeater chains.\n",
        "\n",
        "To reduce the size of the optimization problem, we note that the only computing tasks that will be performed at a positive rate in an optimal solution must involve connected coalitions of nodes. (A detailed proof is provided in the paper.) Therefore, we can restrict the set of coalitions to coalitions of connected nodes.\n",
        "\n",
        "The following function returns generators that produces all connected coalitions of nodes in a repeater chain."
      ]
    },
    {
      "cell_type": "code",
      "execution_count": 8,
      "id": "92bbdf1c",
      "metadata": {
        "id": "92bbdf1c"
      },
      "outputs": [],
      "source": [
        "def gen_coalitions_chain(nodes):\n",
        "    # Heuristic: only connected nodes can form a coalition.\n",
        "    for i in range(len(nodes)):\n",
        "        for j in range(i+1, len(nodes)):\n",
        "            yield tuple(range(i, j+1))"
      ]
    },
    {
      "cell_type": "markdown",
      "id": "7e7cb9be",
      "metadata": {
        "id": "7e7cb9be"
      },
      "source": [
        "### Solving the optimization problem\n",
        "\n",
        "The following code is arguably the most important in this notebook. It computes the quantum network utility by solving the linear program described above, and is applicable to any network that satisfies the assumptions in the preamble to this notebook."
      ]
    },
    {
      "cell_type": "code",
      "execution_count": 9,
      "id": "f4f012a4",
      "metadata": {
        "id": "f4f012a4"
      },
      "outputs": [],
      "source": [
        "def run_LP_volume(nodes, ecal, f_edges, q_nodes, vol_scaling, \\\n",
        "                  gen_coalitions = gen_all_coalitions):\n",
        "    get_y_index = {ecal[i]: i * len(ecal) + i for i in range(len(ecal))}\n",
        "    get_w_index = {(ecal[i], ecal[j]): i * len(ecal) + j \\\n",
        "                   for i in range(len(ecal)) for j in range(len(ecal)) if j != i}\n",
        "    get_rr_index_list = dict() # edge -> list of coalition indices\n",
        "    coalitions = gen_coalitions(nodes)\n",
        "    coal_index = len(ecal)**2\n",
        "    for coal in coalitions:\n",
        "        for i1 in range(len(coal)):\n",
        "            for i2 in range(i1+1, len(coal)):\n",
        "                get_rr_index_list.setdefault(get_edge(coal[i1], coal[i2]), []).\\\n",
        "                                                        append(coal_index)\n",
        "        coal_index += 1\n",
        "\n",
        "    num_y = len(ecal)\n",
        "    num_w = len(ecal)**2 - len(ecal)\n",
        "    num_coalitions = coal_index - len(ecal)**2\n",
        "    num_vars = len(ecal)**2 + num_coalitions\n",
        "    print('Number of variables:', num_vars)\n",
        "\n",
        "    # In the case where the network only produces entanglement of fixed\n",
        "    # fidelity, i.e. where any entangled link can only be produced with some\n",
        "    # given error rate, the effective size of a coalition is a pre-determined\n",
        "    # constant. Note that the error rate can be specific to the link;\n",
        "    # the end user must just have no choice as to what the error rate can be.\n",
        "    # Then the optimization problem can be written as a linear program.\n",
        "    eps_coalition = eps_edge # from parent scope --> error rate for any coalition\n",
        "    coalitions = gen_coalitions(nodes)  # recall this is a generator\n",
        "                                        # --> one use only\n",
        "    # Depth of computation associated with a coalition.\n",
        "    # Note that we should always have depth <= number of memories in a\n",
        "    # coalition, so the depth is also the exponent in the volume calculation\n",
        "    # When a coalition is too big, the maximum depth is limited by fidelity.\n",
        "    m_sol = []\n",
        "    # Number of nodes in coalition.\n",
        "    coal_len = []\n",
        "    # We want to decide the optimal depth for each coalition.\n",
        "    # The relevant factor in the objective function is:\n",
        "    obj_m = lambda d: d * np.log(vol_scaling) - np.log(d)\n",
        "    for coal in coalitions:\n",
        "        if eps_coalition == 0 or len(coal) < 1/np.sqrt(eps_coalition):\n",
        "            # Pick the optimal depth of computation.\n",
        "            if obj_m(1) <= obj_m(len(coal)):\n",
        "                m_sol.append(len(coal))\n",
        "            else:\n",
        "                m_sol.append(1)\n",
        "        else:\n",
        "            if obj_m(1) <= obj_m(int(1/eps_coalition/len(coal))):\n",
        "                m_sol.append(int(1/eps_coalition/len(coal)))\n",
        "            else:\n",
        "                m_sol.append(1)\n",
        "        coal_len.append(len(coal))\n",
        "\n",
        "    solver = pywraplp.Solver.CreateSolver('GLOP')\n",
        "    infinity = solver.infinity()\n",
        "    variables = [solver.NumVar(0, infinity, 'x['+str(i)+']') for i in range(num_vars)]\n",
        "\n",
        "    # Reaction ratio constraints.\n",
        "    for s in ecal:\n",
        "        for c in nodes:\n",
        "            if c == s[0] or c == s[1]:\n",
        "                continue\n",
        "            else:\n",
        "                w1 = (get_edge(s[0], c), s)\n",
        "                w2 = (get_edge(s[1], c), s)\n",
        "                solver.Add(variables[get_w_index[w1]] == variables[get_w_index[w2]])\n",
        "\n",
        "    # Balance.\n",
        "    for s in ecal:\n",
        "        terms_in = []\n",
        "        terms_out = []\n",
        "        a, b = s\n",
        "        for c in nodes:\n",
        "            if c == a or c == b:\n",
        "                continue\n",
        "            else:\n",
        "                # Incoming.\n",
        "                wACab = variables[get_w_index[(get_edge(a, c), get_edge(a, b))]]\n",
        "                wBCab = variables[get_w_index[(get_edge(b, c), get_edge(a, b))]]\n",
        "                wABac = variables[get_w_index[(get_edge(a, b), get_edge(a, c))]]\n",
        "                wABbc = variables[get_w_index[(get_edge(a, b), get_edge(b, c))]]\n",
        "                terms_in.append((wACab + wBCab)/2 * q_nodes[c])\n",
        "                terms_out.append(wABac + wABbc)\n",
        "        yab = variables[get_y_index[s]]\n",
        "        fab = f_edges.get(s, 0) # default to zero if s is not elementary\n",
        "        # Divide fab by two because an SU(4) requires <= two entanglements.\n",
        "        solver.Add(yab <= sum(terms_in) + fab / 2 - sum(terms_out))\n",
        "\n",
        "    # Coalition rate requirements.\n",
        "    for s in ecal:\n",
        "        yab = variables[get_y_index[s]]\n",
        "        rri = []\n",
        "        involved_coalitions = get_rr_index_list[s]\n",
        "        for coal_index in involved_coalitions:\n",
        "            rri.append(variables[coal_index])\n",
        "        solver.Add(sum(rri) <= yab)\n",
        "\n",
        "    # Objective.\n",
        "    # Convert coalition entanglement rate to coalition computation rate, including\n",
        "    # the depth d and the size of the coalition n.\n",
        "    e2c = lambda d, n: (n-1)/d if n % 2 == 0 else n/d\n",
        "    scale_factor = 0.01 # rough fix to avoid overflow issues\n",
        "    microvolumes = [scale_factor * (vol_scaling**m_sol[i]) * variables[len(ecal)**2+i] \\\n",
        "                    * e2c(m_sol[i], coal_len[i]) for i in range(num_coalitions)]\n",
        "    solver.Maximize(sum(microvolumes))\n",
        "    # Solve.\n",
        "    print('Solving...')\n",
        "    status = solver.Solve()\n",
        "    if status != pywraplp.Solver.OPTIMAL:\n",
        "        print(status, solver.Objective().Value())\n",
        "        # Output codes:\n",
        "        ## OPTIMAL = 0\n",
        "        ## optimal.\n",
        "        ## FEASIBLE = 1\n",
        "        ## feasible, or stopped by limit.\n",
        "        ## INFEASIBLE = 2\n",
        "        ## proven infeasible.\n",
        "        ## UNBOUNDED = 3\n",
        "        ## proven unbounded.\n",
        "        ## ABNORMAL = 4\n",
        "        ## abnormal, i.e., error of some kind.\n",
        "        ## NOT_SOLVED = 6\n",
        "        ## not been solved yet.\n",
        "    assert status == pywraplp.Solver.OPTIMAL\n",
        "    # Extract values.\n",
        "    obj_value = solver.Objective().Value() / scale_factor\n",
        "    y_sol = {s: variables[get_y_index[s]].solution_value() for s in ecal}\n",
        "    w_sol = {w: variables[get_w_index[w]].solution_value() for w in get_w_index}\n",
        "    rr_sol = [variables[len(ecal)**2+i].solution_value() for i in range(num_coalitions)]\n",
        "    print('Objective value =', obj_value)\n",
        "\n",
        "    return obj_value, y_sol, w_sol, rr_sol, m_sol"
      ]
    },
    {
      "cell_type": "markdown",
      "id": "28affe67",
      "metadata": {
        "id": "28affe67"
      },
      "source": [
        "We use this code to compute the quantum network utility of repeater chains with different lengths $M$."
      ]
    },
    {
      "cell_type": "code",
      "execution_count": 10,
      "id": "cdf7559f",
      "metadata": {
        "scrolled": true,
        "id": "cdf7559f",
        "outputId": "a9fc6c58-4656-42cd-ac70-3736883fcea4",
        "colab": {
          "base_uri": "https://localhost:8080/"
        }
      },
      "outputs": [
        {
          "output_type": "stream",
          "name": "stdout",
          "text": [
            "-----\n",
            "Chain length: 2\n",
            "Number of variables: 2\n",
            "Solving...\n",
            "Objective value = 0.6\n",
            "-----\n",
            "Chain length: 3\n",
            "Number of variables: 12\n",
            "Solving...\n",
            "Objective value = 1.2\n",
            "-----\n",
            "Chain length: 4\n",
            "Number of variables: 42\n",
            "Solving...\n",
            "Objective value = 1.8000000000000003\n",
            "-----\n",
            "Chain length: 5\n",
            "Number of variables: 110\n",
            "Solving...\n",
            "Objective value = 2.4\n",
            "-----\n",
            "Chain length: 6\n",
            "Number of variables: 240\n",
            "Solving...\n",
            "Objective value = 3.0\n",
            "-----\n",
            "Chain length: 7\n",
            "Number of variables: 462\n",
            "Solving...\n",
            "Objective value = 3.9469816125087016\n",
            "-----\n",
            "Chain length: 8\n",
            "Number of variables: 812\n",
            "Solving...\n",
            "Objective value = 5.174156092738034\n",
            "-----\n",
            "Chain length: 9\n",
            "Number of variables: 1332\n",
            "Solving...\n",
            "Objective value = 8.739220001128826\n",
            "-----\n",
            "Chain length: 10\n",
            "Number of variables: 2070\n",
            "Solving...\n",
            "Objective value = 12.297316296502396\n",
            "-----\n",
            "Chain length: 15\n",
            "Number of variables: 11130\n",
            "Solving...\n",
            "Objective value = 174.86468827944572\n",
            "-----\n",
            "Chain length: 20\n",
            "Number of variables: 36290\n",
            "Solving...\n",
            "Objective value = 2938.853537621452\n",
            "-----\n",
            "Chain length: 25\n",
            "Number of variables: 90300\n",
            "Solving...\n",
            "Objective value = 63352.594753441335\n",
            "-----\n",
            "Chain length: 30\n",
            "Number of variables: 189660\n",
            "Solving...\n",
            "Objective value = 1358220.8450994536\n",
            "-----\n",
            "Chain length: 35\n",
            "Number of variables: 354620\n",
            "Solving...\n",
            "Objective value = 33005684.35897821\n",
            "-----\n",
            "Chain length: 40\n",
            "Number of variables: 609180\n",
            "Solving...\n",
            "4 0.0\n",
            "\n"
          ]
        }
      ],
      "source": [
        "Ms = [2, 3, 4, 5, 6, 7, 8, 9, 10, 15, 20, 25, 30, 35, 40]\n",
        "q_node = 0.99\n",
        "\n",
        "# To check that considering only connected coalitions is sufficient,\n",
        "# comment the appropriate line below.\n",
        "gen_coalitions = gen_coalitions_chain\n",
        "# gen_coalitions = gen_all coalitions\n",
        "\n",
        "results = []\n",
        "for chain_length in Ms:\n",
        "    print('-----\\nChain length:', chain_length)\n",
        "    params = gen_params_chain(chain_length, q_node, vol_scaling)\n",
        "    try:\n",
        "        results.append(run_LP_volume(*params, gen_coalitions))\n",
        "    except AssertionError as e:\n",
        "        print(e)\n",
        "        results.append(None)\n",
        "        continue"
      ]
    },
    {
      "cell_type": "markdown",
      "id": "704c486a",
      "metadata": {
        "id": "704c486a"
      },
      "source": [
        "### Visualizing the results"
      ]
    },
    {
      "cell_type": "code",
      "execution_count": 11,
      "id": "c0a34c99",
      "metadata": {
        "id": "c0a34c99",
        "outputId": "694878b3-7e3e-4479-c260-b3078135bd23",
        "colab": {
          "base_uri": "https://localhost:8080/"
        }
      },
      "outputs": [
        {
          "output_type": "stream",
          "name": "stdout",
          "text": [
            "-----\n",
            " 2\n",
            "0.3 (0, 1)\n",
            "-----\n",
            " 3\n",
            "0.3 (0, 1)\n",
            "0.3 (1, 2)\n",
            "-----\n",
            " 4\n",
            "0.3 (0, 1)\n",
            "0.3 (1, 2)\n",
            "0.3 (2, 3)\n",
            "-----\n",
            " 5\n",
            "0.3 (0, 1)\n",
            "0.3 (1, 2)\n",
            "0.3 (2, 3)\n",
            "0.3 (3, 4)\n",
            "-----\n",
            " 6\n",
            "0.3 (0, 1)\n",
            "0.3 (1, 2)\n",
            "0.3 (2, 3)\n",
            "0.3 (3, 4)\n",
            "0.3 (4, 5)\n",
            "-----\n",
            " 7\n",
            "0.14949115953295142 (0, 1)\n",
            "0.024625421897639048 (0, 1, 2, 3, 4, 5, 6)\n",
            "0.0492407428697744 (1, 2)\n",
            "0.04924074286977446 (4, 5)\n",
            "0.14949115953295147 (5, 6)\n",
            "-----\n",
            " 8\n",
            "0.16770107447358795 (0, 1)\n",
            "0.018469105093560964 (0, 1, 2, 3, 4, 5, 6, 7)\n",
            "0.0732883128665248 (1, 2)\n",
            "0.017707746239602265 (2, 3)\n",
            "0.018276876211185747 (4, 5)\n",
            "0.0736709244821632 (5, 6)\n",
            "0.16789334161712477 (6, 7)\n",
            "-----\n",
            " 9\n",
            "0.1785327465076117 (0, 1)\n",
            "0.014767881627917485 (0, 1, 2, 3, 4, 5, 6, 7, 8)\n",
            "0.0876682499897031 (1, 2)\n",
            "0.028315155411453317 (2, 3)\n",
            "0.02831515541145333 (5, 6)\n",
            "0.08766824998970316 (6, 7)\n",
            "0.17853274650761175 (7, 8)\n",
            "-----\n",
            " 10\n",
            "0.19143892935564455 (0, 1)\n",
            "0.011808386311701556 (0, 1, 2, 3, 4, 5, 6, 7, 8, 9)\n",
            "0.10624757110988824 (1, 2)\n",
            "0.045763452328814846 (2, 3)\n",
            "0.010470932756385448 (3, 4)\n",
            "0.01022752360735306 (5, 6)\n",
            "0.04576223534453351 (6, 7)\n",
            "0.10624757110988821 (7, 8)\n",
            "0.19119552020661218 (8, 9)\n",
            "-----\n",
            " 15\n",
            "0.21561478042289803 (0, 1)\n",
            "0.001316083749778748 (0, 1, 2, 3, 4, 5, 6)\n",
            "0.005264627995294547 (0, 1, 2, 3, 4, 5, 6, 7, 8, 9, 10, 11, 12, 13, 14)\n",
            "0.14452459944024518 (1, 2)\n",
            "0.08730539411004722 (2, 3)\n",
            "0.043005377256404076 (3, 4)\n",
            "0.013660021193066247 (4, 5)\n",
            "0.0013160837497787402 (8, 9, 10, 11, 12, 13, 14)\n",
            "0.013660021193066304 (9, 10)\n",
            "0.043073198739731165 (10, 11)\n",
            "0.0873732155933743 (11, 12)\n",
            "0.14445677795691816 (12, 13)\n",
            "0.21554695893957102 (13, 14)\n",
            "-----\n",
            " 20\n",
            "0.21410510481557396 (0, 1)\n",
            "0.0019184031385684665 (0, 1, 2, 3, 4, 5, 6)\n",
            "0.00100178560450587 (0, 1, 2, 3, 4, 5, 6, 7)\n",
            "0.0009797095324770577 (0, 1, 2, 3, 4, 5, 6, 7, 8)\n",
            "4.010892462227433e-05 (0, 1, 2, 3, 4, 5, 6, 7, 8, 9)\n",
            "0.002946189432675919 (0, 1, 2, 3, 4, 5, 6, 7, 8, 9, 10, 11, 12, 13, 14, 15, 16, 17, 18, 19)\n",
            "0.14263145989759146 (1, 2)\n",
            "0.08630281106872256 (2, 3)\n",
            "0.04222483231966679 (3, 4)\n",
            "0.012805035734256376 (4, 5)\n",
            "5.671946043319248e-05 (10, 11, 12, 13, 14, 15, 16, 17, 18, 19)\n",
            "0.0009614835402813701 (11, 12, 13, 14, 15, 16, 17, 18, 19)\n",
            "0.0010012887904067285 (12, 13, 14, 15, 16, 17, 18, 19)\n",
            "0.0019175898007872429 (13, 14, 15, 16, 17, 18, 19)\n",
            "0.01344519120521193 (14, 15)\n",
            "0.041698032158955095 (15, 16)\n",
            "0.08517422286006794 (16, 17)\n",
            "0.1431434240033543 (17, 18)\n",
            "0.2146498550011888 (18, 19)\n",
            "-----\n",
            " 25\n",
            "0.2140835723074479 (0, 1)\n",
            "0.0019246637297746332 (0, 1, 2, 3, 4, 5, 6)\n",
            "0.001006159050865128 (0, 1, 2, 3, 4, 5, 6, 7)\n",
            "0.0009833423545032873 (0, 1, 2, 3, 4, 5, 6, 7, 8)\n",
            "0.0004496043219166424 (0, 1, 2, 3, 4, 5, 6, 7, 8, 9)\n",
            "0.0006274496980928453 (0, 1, 2, 3, 4, 5, 6, 7, 8, 9, 10)\n",
            "1.689504195707092e-05 (0, 1, 2, 3, 4, 5, 6, 7, 8, 9, 10, 11)\n",
            "0.001887831853719516 (0, 1, 2, 3, 4, 5, 6, 7, 8, 9, 10, 11, 12, 13, 14, 15, 16, 17, 18, 19, 20, 21, 22, 23, 24)\n",
            "0.14267817121288615 (1, 2)\n",
            "0.08578380382334674 (2, 3)\n",
            "0.0423111706318475 (3, 4)\n",
            "0.013433153020116616 (4, 5)\n",
            "1.6895041957074222e-05 (13, 14, 15, 16, 17, 18, 19, 20, 21, 22, 23, 24)\n",
            "0.0006274496980928453 (14, 15, 16, 17, 18, 19, 20, 21, 22, 23, 24)\n",
            "0.0004496043219166342 (15, 16, 17, 18, 19, 20, 21, 22, 23, 24)\n",
            "0.000983342354503279 (16, 17, 18, 19, 20, 21, 22, 23, 24)\n",
            "0.0010061590508651723 (17, 18, 19, 20, 21, 22, 23, 24)\n",
            "0.0019246637297745915 (18, 19, 20, 21, 22, 23, 24)\n",
            "0.012858411050601891 (19, 20)\n",
            "0.042381530248731855 (20, 21)\n",
            "0.08635854579286144 (21, 22)\n",
            "0.1426078115960019 (22, 23)\n",
            "0.21408357230744796 (23, 24)\n",
            "-----\n",
            " 30\n",
            "0.21473643641527385 (0, 1)\n",
            "0.0019266434254474208 (0, 1, 2, 3, 4, 5, 6)\n",
            "0.0010060982978778497 (0, 1, 2, 3, 4, 5, 6, 7)\n",
            "0.000983130452439329 (0, 1, 2, 3, 4, 5, 6, 7, 8)\n",
            "0.00044841646485202654 (0, 1, 2, 3, 4, 5, 6, 7, 8, 9)\n",
            "0.00062842485121202 (0, 1, 2, 3, 4, 5, 6, 7, 8, 9, 10)\n",
            "0.00022790502508900957 (0, 1, 2, 3, 4, 5, 6, 7, 8, 9, 10, 11)\n",
            "0.0002562505881381016 (0, 1, 2, 3, 4, 5, 6, 7, 8, 9, 10, 11, 12)\n",
            "0.00011748285259229746 (0, 1, 2, 3, 4, 5, 6, 7, 8, 9, 10, 11, 12, 13)\n",
            "1.0879404539879122e-06 (0, 1, 2, 3, 4, 5, 6, 7, 8, 9, 10, 11, 12, 13, 14)\n",
            "0.0013085441439500919 (0, 1, 2, 3, 4, 5, 6, 7, 8, 9, 10, 11, 12, 13, 14, 15, 16, 17, 18, 19, 20, 21, 22, 23, 24, 25, 26, 27, 28, 29)\n",
            "0.142685481549839 (1, 2)\n",
            "0.08513250581885233 (2, 3)\n",
            "0.04230330303937281 (3, 4)\n",
            "0.01343578647509255 (4, 5)\n",
            "1.078397116646701e-06 (15, 16, 17, 18, 19, 20, 21, 22, 23, 24, 25, 26, 27, 28, 29)\n",
            "0.00011645347148567658 (16, 17, 18, 19, 20, 21, 22, 23, 24, 25, 26, 27, 28, 29)\n",
            "0.00025608776759295096 (17, 18, 19, 20, 21, 22, 23, 24, 25, 26, 27, 28, 29)\n",
            "0.00023013058995914368 (18, 19, 20, 21, 22, 23, 24, 25, 26, 27, 28, 29)\n",
            "0.0006259050467783772 (19, 20, 21, 22, 23, 24, 25, 26, 27, 28, 29)\n",
            "0.00045116418166231854 (20, 21, 22, 23, 24, 25, 26, 27, 28, 29)\n",
            "0.0009834504356620061 (21, 22, 23, 24, 25, 26, 27, 28, 29)\n",
            "0.0010064985155048797 (22, 23, 24, 25, 26, 27, 28, 29)\n",
            "0.0019226280645035232 (23, 24, 25, 26, 27, 28, 29)\n",
            "0.012419521872584056 (24, 25)\n",
            "0.04188196093716879 (25, 26)\n",
            "0.0862902165844733 (26, 27)\n",
            "0.14311108423282565 (27, 28)\n",
            "0.21459076729171622 (28, 29)\n",
            "-----\n",
            " 35\n",
            "0.21484279163613812 (0, 1)\n",
            "0.0019254401161342871 (0, 1, 2, 3, 4, 5, 6)\n",
            "0.0010068695657773146 (0, 1, 2, 3, 4, 5, 6, 7)\n",
            "0.0009836814544696357 (0, 1, 2, 3, 4, 5, 6, 7, 8)\n",
            "0.0004499879696017095 (0, 1, 2, 3, 4, 5, 6, 7, 8, 9)\n",
            "0.0006275132626070851 (0, 1, 2, 3, 4, 5, 6, 7, 8, 9, 10)\n",
            "0.0002290348038231535 (0, 1, 2, 3, 4, 5, 6, 7, 8, 9, 10, 11)\n",
            "0.00025624010352880003 (0, 1, 2, 3, 4, 5, 6, 7, 8, 9, 10, 11, 12)\n",
            "0.0002038560348817983 (0, 1, 2, 3, 4, 5, 6, 7, 8, 9, 10, 11, 12, 13)\n",
            "0.0001647139927340155 (0, 1, 2, 3, 4, 5, 6, 7, 8, 9, 10, 11, 12, 13, 14)\n",
            "9.147033663364501e-05 (0, 1, 2, 3, 4, 5, 6, 7, 8, 9, 10, 11, 12, 13, 14, 15)\n",
            "0.0009605906338623995 (0, 1, 2, 3, 4, 5, 6, 7, 8, 9, 10, 11, 12, 13, 14, 15, 16, 17, 18, 19, 20, 21, 22, 23, 24, 25, 26, 27, 28, 29, 30, 31, 32, 33, 34)\n",
            "0.14275265703775675 (1, 2)\n",
            "0.08517928812183385 (2, 3)\n",
            "0.04233386940854245 (3, 4)\n",
            "0.01344139498858546 (4, 5)\n",
            "9.14703366336575e-05 (19, 20, 21, 22, 23, 24, 25, 26, 27, 28, 29, 30, 31, 32, 33, 34)\n",
            "0.000164713992733978 (20, 21, 22, 23, 24, 25, 26, 27, 28, 29, 30, 31, 32, 33, 34)\n",
            "0.00020385603488180248 (21, 22, 23, 24, 25, 26, 27, 28, 29, 30, 31, 32, 33, 34)\n",
            "0.0002562401035288292 (22, 23, 24, 25, 26, 27, 28, 29, 30, 31, 32, 33, 34)\n",
            "0.00022903480382314688 (23, 24, 25, 26, 27, 28, 29, 30, 31, 32, 33, 34)\n",
            "0.0006275132626070767 (24, 25, 26, 27, 28, 29, 30, 31, 32, 33, 34)\n",
            "0.0004499879696017178 (25, 26, 27, 28, 29, 30, 31, 32, 33, 34)\n",
            "0.0009836814544696316 (26, 27, 28, 29, 30, 31, 32, 33, 34)\n",
            "0.0010068695657773036 (27, 28, 29, 30, 31, 32, 33, 34)\n",
            "0.0019254401161342915 (28, 29, 30, 31, 32, 33, 34)\n",
            "0.01344139498858554 (29, 30)\n",
            "0.042333869408542515 (30, 31)\n",
            "0.08582827031292808 (31, 32)\n",
            "0.1427526570377567 (32, 33)\n",
            "0.21419380944504374 (33, 34)\n",
            "cannot unpack non-iterable NoneType object\n"
          ]
        }
      ],
      "source": [
        "values = []\n",
        "values_scaled = []\n",
        "graphs = []\n",
        "graph_pos = []\n",
        "maxcoals = []\n",
        "\n",
        "for i in range(len(Ms)):\n",
        "    chain_length = Ms[i]\n",
        "    try:\n",
        "        obj_value, y_sol, _, rr_sol, _ = results[i]\n",
        "        values.append(obj_value)\n",
        "        values_scaled.append(obj_value / (chain_length - 1))\n",
        "\n",
        "        edges = [(e[0], e[1], y_sol[e]) for e in y_sol]\n",
        "        G = nx.Graph()\n",
        "        G.add_weighted_edges_from(edges, weight = 'y')\n",
        "        graphs.append(G)\n",
        "        graph_pos.append(nx.circular_layout(G))\n",
        "\n",
        "        # Get maximum coalition size.\n",
        "        nodes = list(range(chain_length))\n",
        "        coalitions = gen_coalitions(nodes)\n",
        "        ci = 0\n",
        "        maxcoal = None\n",
        "        for coal in coalitions:\n",
        "            if rr_sol[ci] > 0:\n",
        "                if maxcoal is None or len(coal) > maxcoal:\n",
        "                    maxcoal = len(coal)\n",
        "            ci += 1\n",
        "        maxcoals.append(maxcoal)\n",
        "\n",
        "        # Print coalitions with positive task rate.\n",
        "        coalitions = gen_coalitions(nodes)\n",
        "        ci = 0\n",
        "        print('-----\\n', chain_length)\n",
        "        for coal in coalitions:\n",
        "            if rr_sol[ci] > 0: print(rr_sol[ci], coal)\n",
        "            ci += 1\n",
        "            \n",
        "    except TypeError as e:\n",
        "        print(e)\n",
        "        values.append(None)\n",
        "        values_scaled.append(None)\n",
        "        graphs.append(None)\n",
        "        graph_pos.append(None)\n",
        "        maxcoals.append(None)"
      ]
    },
    {
      "cell_type": "markdown",
      "id": "53a0cb9f",
      "metadata": {
        "id": "53a0cb9f"
      },
      "source": [
        "Here we plot the quantum network utility divided by the number of edges in the network. (A network with more edges would have a higher aggregate utility even if no swaps were performed, simply because there was more entanglement in the network in absolute terms. The no-swap utility is proportional to the number of edges in the network.)"
      ]
    },
    {
      "cell_type": "code",
      "execution_count": 12,
      "id": "b7ab65ff",
      "metadata": {
        "id": "b7ab65ff",
        "outputId": "3539f7d9-f6c0-4f81-c512-d85bc40e79e5",
        "colab": {
          "base_uri": "https://localhost:8080/",
          "height": 279
        }
      },
      "outputs": [
        {
          "output_type": "display_data",
          "data": {
            "text/plain": [
              "<Figure size 432x288 with 1 Axes>"
            ],
            "image/png": "[encoded data removed]"
          },
          "metadata": {
            "needs_background": "light"
          }
        }
      ],
      "source": [
        "plt.figure()\n",
        "plt.yscale('log')\n",
        "plt.plot(Ms, values_scaled, '.:')\n",
        "plt.xlabel('Chain length')\n",
        "plt.ylabel('Scaled utility')\n",
        "plt.grid()"
      ]
    },
    {
      "cell_type": "markdown",
      "id": "39fa9ce3",
      "metadata": {
        "id": "39fa9ce3"
      },
      "source": [
        "Here we plot the maximum coalition size with positive task rate in the optimal solution. As we can see, there is a transition from small coalitions to large coalitions at chain length = 6."
      ]
    },
    {
      "cell_type": "code",
      "execution_count": 13,
      "id": "ed823f62",
      "metadata": {
        "scrolled": true,
        "id": "ed823f62",
        "outputId": "856311ce-0732-4228-8f42-d609a5cd8ccc",
        "colab": {
          "base_uri": "https://localhost:8080/",
          "height": 279
        }
      },
      "outputs": [
        {
          "output_type": "display_data",
          "data": {
            "text/plain": [
              "<Figure size 432x288 with 1 Axes>"
            ],
            "image/png": "[encoded data removed]"
          },
          "metadata": {
            "needs_background": "light"
          }
        }
      ],
      "source": [
        "plt.figure()\n",
        "plt.plot(Ms, maxcoals, '.:')\n",
        "\n",
        "plt.xlabel('Chain length')\n",
        "plt.ylabel('Maximum coalition size')\n",
        "plt.grid()"
      ]
    },
    {
      "cell_type": "markdown",
      "id": "81935602",
      "metadata": {
        "id": "81935602"
      },
      "source": [
        "Here we plot the vector of output entanglement rates from the network. Pairs of nodes with higher output entanglement rates are connected by darker edges. "
      ]
    },
    {
      "cell_type": "code",
      "execution_count": 14,
      "id": "28dc03f9",
      "metadata": {
        "scrolled": true,
        "id": "28dc03f9",
        "outputId": "dfd8d140-8289-4be9-bb61-81844a9cae74",
        "colab": {
          "base_uri": "https://localhost:8080/",
          "height": 264
        }
      },
      "outputs": [
        {
          "output_type": "display_data",
          "data": {
            "text/plain": [
              "<Figure size 576x288 with 8 Axes>"
            ],
            "image/png": "[encoded data removed]"
          },
          "metadata": {}
        }
      ],
      "source": [
        "shift = 3\n",
        "plt.figure(figsize = (8, 4))\n",
        "for i in range(8):\n",
        "    chain_length = Ms[i+shift]\n",
        "    plt.subplot(2, 4, i+1)\n",
        "    G = graphs[i+shift]\n",
        "    if G is None: \n",
        "        continue\n",
        "    else:\n",
        "        Gpos = graph_pos[i+shift]\n",
        "        nx.draw_networkx_nodes(G, Gpos, node_size = 25)\n",
        "        nx.draw_networkx_labels(G, Gpos, \\\n",
        "                                labels = {node: str(node) for node in G.nodes}, \\\n",
        "                                font_color = 'w', font_size = 5)\n",
        "        edgelist = []\n",
        "        edgecolors = []\n",
        "        for edge in G.edges:\n",
        "            edgelist.append(edge)\n",
        "            edgecolors.append(G.edges[edge]['y'])\n",
        "        max_y = max(edgecolors)\n",
        "        edgecolors = [(0, 0, 0, y/max_y) for y in edgecolors]\n",
        "        nx.draw_networkx_edges(G, Gpos, edgelist = edgelist, edge_color = edgecolors)\n",
        "    plt.title('M = '+str(chain_length))"
      ]
    },
    {
      "cell_type": "markdown",
      "id": "d6649014",
      "metadata": {
        "id": "d6649014"
      },
      "source": [
        "### Other topologies\n",
        "\n",
        "Here we provide a construction of a square grid, if you would like to compute the network volume for a grid quantum network!\n",
        "\n",
        "(You should use `gen_all_coalitions` in place of `gen_coalitions_chain` to generate the coalitions of interest. This computation may take a while to run, even for the smallest non-trivial grid size.)"
      ]
    },
    {
      "cell_type": "code",
      "execution_count": 15,
      "id": "4d4fb26f",
      "metadata": {
        "id": "4d4fb26f"
      },
      "outputs": [],
      "source": [
        "def gen_params_grid(half_length, f_edge, q_node, vol_scaling):\n",
        "    # Only square grids, with an odd number of grid points per side.\n",
        "    nodes = [(i, j) for i in range(-half_length, half_length+1) \\\n",
        "             for j in range(-half_length, half_length+1)]\n",
        "    ecal = get_ecal(nodes)\n",
        "    f_edges = {((i, j), (i+1, j)): f_edge for i in range(-half_length, half_length) \\\n",
        "               for j in range(-half_length, half_length+1)} | \\\n",
        "               {((i, j), (i, j+1)): f_edge for i in range(-half_length, half_length+1) \\\n",
        "                for j in range(-half_length, half_length)}\n",
        "    q_nodes = {node: q_node for node in nodes}\n",
        "    return nodes, ecal, f_edges, q_nodes, vol_scaling"
      ]
    }
  ],
  "metadata": {
    "kernelspec": {
      "display_name": "Python 3 (ipykernel)",
      "language": "python",
      "name": "python3"
    },
    "language_info": {
      "codemirror_mode": {
        "name": "ipython",
        "version": 3
      },
      "file_extension": ".py",
      "mimetype": "text/x-python",
      "name": "python",
      "nbconvert_exporter": "python",
      "pygments_lexer": "ipython3",
      "version": "3.9.1"
    },
    "colab": {
      "name": "Quantum Network Utility.ipynb",
      "provenance": [],
      "collapsed_sections": []
    }
  },
  "nbformat": 4,
  "nbformat_minor": 5
}